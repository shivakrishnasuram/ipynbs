{
 "cells": [
  {
   "cell_type": "code",
   "execution_count": 5,
   "metadata": {},
   "outputs": [
    {
     "name": "stdout",
     "output_type": "stream",
     "text": [
      "55\n"
     ]
    }
   ],
   "source": [
    "def fibbo(n):\n",
    "    if n <= 1:\n",
    "        return n\n",
    "    return fibbo(n-1) + fibbo(n-2)\n",
    "\n",
    "print(fibbo(10))"
   ]
  },
  {
   "cell_type": "code",
   "execution_count": 2,
   "metadata": {},
   "outputs": [
    {
     "name": "stdout",
     "output_type": "stream",
     "text": [
      "[0, 1, 1, 2, 3, 5, 8, 13, 21, 34]\n"
     ]
    }
   ],
   "source": [
    "def fibonacci_series(n):\n",
    "    series = [0, 1]\n",
    "    while len(series) < n:\n",
    "        series.append(series[-1] + series[-2])\n",
    "    return series\n",
    "\n",
    "print(fibonacci_series(10))"
   ]
  },
  {
   "cell_type": "code",
   "execution_count": 11,
   "metadata": {},
   "outputs": [
    {
     "name": "stdout",
     "output_type": "stream",
     "text": [
      "6\n"
     ]
    }
   ],
   "source": [
    "def factorial(n):\n",
    "    if n<=1:\n",
    "        return 1\n",
    "    return n*factorial(n-1)\n",
    "print(factorial(3))"
   ]
  },
  {
   "cell_type": "code",
   "execution_count": null,
   "metadata": {},
   "outputs": [],
   "source": [
    "n=0\n",
    "n2=1\n",
    "n==int(input(\"enter the number:\"))\n",
    "\n",
    "for i in range(1,n):\n",
    "    fib =n+n2\n",
    "    n=n2\n",
    "    n2=fib\n",
    "    print(fib)"
   ]
  },
  {
   "cell_type": "markdown",
   "metadata": {},
   "source": [
    "print range of prime numbers "
   ]
  },
  {
   "cell_type": "code",
   "execution_count": null,
   "metadata": {},
   "outputs": [
    {
     "ename": "ValueError",
     "evalue": "invalid literal for int() with base 10: ''",
     "output_type": "error",
     "traceback": [
      "\u001b[1;31m---------------------------------------------------------------------------\u001b[0m",
      "\u001b[1;31mValueError\u001b[0m                                Traceback (most recent call last)",
      "Cell \u001b[1;32mIn[1], line 1\u001b[0m\n\u001b[1;32m----> 1\u001b[0m numbers \u001b[38;5;241m=\u001b[39m \u001b[38;5;28;43mint\u001b[39;49m\u001b[43m(\u001b[49m\u001b[38;5;28;43minput\u001b[39;49m\u001b[43m(\u001b[49m\u001b[38;5;124;43m\"\u001b[39;49m\u001b[38;5;124;43mEnter the number: \u001b[39;49m\u001b[38;5;124;43m\"\u001b[39;49m\u001b[43m)\u001b[49m\u001b[43m)\u001b[49m\n\u001b[0;32m      2\u001b[0m \u001b[38;5;28mprint\u001b[39m(numbers)\n\u001b[0;32m      4\u001b[0m \u001b[38;5;28;01mif\u001b[39;00m numbers \u001b[38;5;241m<\u001b[39m\u001b[38;5;241m=\u001b[39m \u001b[38;5;241m1\u001b[39m:\n",
      "\u001b[1;31mValueError\u001b[0m: invalid literal for int() with base 10: ''"
     ]
    }
   ],
   "source": [
    "# numbers = int(input(\"Enter the number: \"))\n",
    "# print(numbers)\n",
    "\n",
    "# if numbers <= 1:\n",
    "#     print(\"It is not a prime number\")\n",
    "# else:\n",
    "#     for i in range(2, numbers):  # Start from 2, not 1\n",
    "#         if numbers % i == 0:\n",
    "#             print(\"It is not a prime number\")\n",
    "#             break\n",
    "#     else:\n",
    "#         print(\"It is a prime number\")\n"
   ]
  },
  {
   "cell_type": "code",
   "execution_count": null,
   "metadata": {},
   "outputs": [],
   "source": [
    "def fingmax(mylist):\n",
    "    max_el =mylist[0]\n",
    "    for i in mylist:\n",
    "        max_el =i if i>max_el else max_el\n",
    "    return max_el\n",
    "\n",
    "mylist =[]\n",
    "res =[]\n",
    "\n",
    "for j in mylist\n",
    "\n"
   ]
  },
  {
   "cell_type": "code",
   "execution_count": 3,
   "metadata": {},
   "outputs": [
    {
     "ename": "TypeError",
     "evalue": "'<' not supported between instances of 'types.GenericAlias' and 'int'",
     "output_type": "error",
     "traceback": [
      "\u001b[1;31m---------------------------------------------------------------------------\u001b[0m",
      "\u001b[1;31mTypeError\u001b[0m                                 Traceback (most recent call last)",
      "Cell \u001b[1;32mIn[3], line 19\u001b[0m\n\u001b[0;32m     16\u001b[0m     \u001b[38;5;28;01mreturn\u001b[39;00m \u001b[38;5;241m-\u001b[39m\u001b[38;5;241m1\u001b[39m\n\u001b[0;32m     17\u001b[0m list1 \u001b[38;5;241m=\u001b[39m[\u001b[38;5;241m1\u001b[39m,\u001b[38;5;241m2\u001b[39m,\u001b[38;5;241m3\u001b[39m,\u001b[38;5;241m4\u001b[39m,\u001b[38;5;241m5\u001b[39m,\u001b[38;5;241m8\u001b[39m,\u001b[38;5;241m12\u001b[39m,\u001b[38;5;241m67\u001b[39m,\u001b[38;5;241m34567\u001b[39m]\n\u001b[1;32m---> 19\u001b[0m ress \u001b[38;5;241m=\u001b[39m\u001b[43mbinary_search\u001b[49m\u001b[43m(\u001b[49m\u001b[38;5;241;43m12\u001b[39;49m\u001b[43m,\u001b[49m\u001b[43mlist1\u001b[49m\u001b[43m)\u001b[49m\n\u001b[0;32m     20\u001b[0m \u001b[38;5;28;01mif\u001b[39;00m res \u001b[38;5;241m!=\u001b[39m \u001b[38;5;241m-\u001b[39m\u001b[38;5;241m1\u001b[39m:\n\u001b[0;32m     21\u001b[0m     \u001b[38;5;28mprint\u001b[39m(ress)\n",
      "Cell \u001b[1;32mIn[3], line 11\u001b[0m, in \u001b[0;36mbinary_search\u001b[1;34m(search, list1)\u001b[0m\n\u001b[0;32m      9\u001b[0m \u001b[38;5;28;01mif\u001b[39;00m list1[mid] \u001b[38;5;241m==\u001b[39m search:\n\u001b[0;32m     10\u001b[0m     \u001b[38;5;28;01mreturn\u001b[39;00m mid\n\u001b[1;32m---> 11\u001b[0m \u001b[38;5;28;01melif\u001b[39;00m \u001b[38;5;28;43mlist\u001b[39;49m\u001b[43m[\u001b[49m\u001b[43mmid\u001b[49m\u001b[43m]\u001b[49m\u001b[43m \u001b[49m\u001b[38;5;241;43m<\u001b[39;49m\u001b[43m \u001b[49m\u001b[43msearch\u001b[49m:\n\u001b[0;32m     12\u001b[0m     low\u001b[38;5;241m=\u001b[39m mid \u001b[38;5;241m+\u001b[39m\u001b[38;5;241m1\u001b[39m \n\u001b[0;32m     13\u001b[0m \u001b[38;5;28;01melse\u001b[39;00m:\n",
      "\u001b[1;31mTypeError\u001b[0m: '<' not supported between instances of 'types.GenericAlias' and 'int'"
     ]
    }
   ],
   "source": [
    "# low =0\n",
    "\n",
    "def binary_search(search,list1):\n",
    "    low =0\n",
    "    high =len(list1)-1\n",
    "\n",
    "    while low <=high:\n",
    "        mid =int((low+high)/2)\n",
    "        if list1[mid] == search:\n",
    "            return mid\n",
    "        elif list[mid] < search:\n",
    "            low= mid +1 \n",
    "        else:\n",
    "            high =mid -1\n",
    "\n",
    "    return -1\n",
    "list1 =[1,2,3,4,5,8,12,67,34567]\n",
    "\n",
    "ress =binary_search(12,list1)\n",
    "if res != -1:\n",
    "    print(ress)\n",
    "else:\n",
    "    print(\"not found\")\n",
    "\n"
   ]
  },
  {
   "cell_type": "code",
   "execution_count": null,
   "metadata": {},
   "outputs": [],
   "source": [
    "def checking(num,k):\n",
    "    if k>0 and k<=len(num):\n",
    "        return num[k-1]\n",
    "    else:\"index out of the range\"\n",
    "res =checking()"
   ]
  }
 ],
 "metadata": {
  "kernelspec": {
   "display_name": ".venv",
   "language": "python",
   "name": "python3"
  },
  "language_info": {
   "codemirror_mode": {
    "name": "ipython",
    "version": 3
   },
   "file_extension": ".py",
   "mimetype": "text/x-python",
   "name": "python",
   "nbconvert_exporter": "python",
   "pygments_lexer": "ipython3",
   "version": "3.12.0"
  }
 },
 "nbformat": 4,
 "nbformat_minor": 2
}
